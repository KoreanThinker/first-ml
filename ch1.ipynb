{
 "cells": [
  {
   "cell_type": "code",
   "execution_count": 3,
   "metadata": {},
   "outputs": [
    {
     "data": {
      "text/plain": [
       "array([[ 0,  1],\n",
       "       [ 2,  3],\n",
       "       [ 4,  5],\n",
       "       [ 6,  7],\n",
       "       [ 8,  9],\n",
       "       [10, 11],\n",
       "       [12, 13],\n",
       "       [14, 15],\n",
       "       [16, 17],\n",
       "       [18, 19],\n",
       "       [20, 21],\n",
       "       [22, 23],\n",
       "       [24, 25],\n",
       "       [26, 27],\n",
       "       [28, 29],\n",
       "       [30, 31],\n",
       "       [32, 33],\n",
       "       [34, 35],\n",
       "       [36, 37],\n",
       "       [38, 39],\n",
       "       [40, 41],\n",
       "       [42, 43],\n",
       "       [44, 45],\n",
       "       [46, 47],\n",
       "       [48, 49],\n",
       "       [50, 51],\n",
       "       [52, 53],\n",
       "       [54, 55],\n",
       "       [56, 57],\n",
       "       [58, 59],\n",
       "       [60, 61],\n",
       "       [62, 63],\n",
       "       [64, 65],\n",
       "       [66, 67],\n",
       "       [68, 69],\n",
       "       [70, 71],\n",
       "       [72, 73],\n",
       "       [74, 75],\n",
       "       [76, 77],\n",
       "       [78, 79],\n",
       "       [80, 81],\n",
       "       [82, 83],\n",
       "       [84, 85],\n",
       "       [86, 87],\n",
       "       [88, 89],\n",
       "       [90, 91],\n",
       "       [92, 93],\n",
       "       [94, 95],\n",
       "       [96, 97],\n",
       "       [98, 99]])"
      ]
     },
     "execution_count": 3,
     "metadata": {},
     "output_type": "execute_result"
    }
   ],
   "source": [
    "import numpy as np\n",
    "a = np.arange(100).reshape(50, 2)\n",
    "a"
   ]
  },
  {
   "cell_type": "markdown",
   "metadata": {},
   "source": []
  }
 ],
 "metadata": {
  "interpreter": {
   "hash": "533f654e788f998935ccaafdd0756513b2dad12d417c3da055806d31c671e2d9"
  },
  "kernelspec": {
   "display_name": "Python 3.9.5 64-bit ('first-ml': conda)",
   "name": "python3"
  },
  "language_info": {
   "codemirror_mode": {
    "name": "ipython",
    "version": 3
   },
   "file_extension": ".py",
   "mimetype": "text/x-python",
   "name": "python",
   "nbconvert_exporter": "python",
   "pygments_lexer": "ipython3",
   "version": "3.7.10"
  }
 },
 "nbformat": 4,
 "nbformat_minor": 5
}